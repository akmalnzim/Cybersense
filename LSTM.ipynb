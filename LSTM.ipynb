{
 "cells": [
  {
   "cell_type": "code",
   "id": "initial_id",
   "metadata": {
    "collapsed": true,
    "ExecuteTime": {
     "end_time": "2024-05-26T17:28:18.837330Z",
     "start_time": "2024-05-26T17:28:15.972587Z"
    }
   },
   "source": [
    "import torch\n",
    "from torch import nn\n",
    "from torch.utils.data import DataLoader, Dataset\n",
    "from torch.optim import AdamW\n",
    "from sklearn.model_selection import train_test_split\n",
    "from sklearn.preprocessing import LabelEncoder\n",
    "from sklearn.metrics import accuracy_score, classification_report, confusion_matrix\n",
    "import pandas as pd\n",
    "from torchtext.vocab import GloVe\n",
    "from torch.nn.utils.rnn import pad_sequence\n",
    "from torchtext.data.utils import get_tokenizer\n",
    "import re\n",
    "import string\n",
    "import emoji\n",
    "import nltk\n",
    "from nltk.stem import WordNetLemmatizer\n",
    "from nltk.corpus import stopwords\n",
    "from nltk.tokenize import word_tokenize\n",
    "from langdetect import detect, LangDetectException\n",
    "import contractions\n",
    "import seaborn as sns\n",
    "import matplotlib.pyplot as plt\n",
    "\n",
    "# Define stop words for text cleaning\n",
    "nltk.download('stopwords')\n",
    "nltk.download('punkt')\n",
    "nltk.download('wordnet')\n",
    "stop_words = set(stopwords.words('english'))\n",
    "\n",
    "# Initialize lemmatizer for text cleaning\n",
    "lemmatizer = WordNetLemmatizer()"
   ],
   "outputs": [
    {
     "name": "stderr",
     "output_type": "stream",
     "text": [
      "C:\\Users\\Akmal Nazim\\AppData\\Local\\Programs\\Python\\Python311\\Lib\\site-packages\\torchtext\\vocab\\__init__.py:4: UserWarning: \n",
      "/!\\ IMPORTANT WARNING ABOUT TORCHTEXT STATUS /!\\ \n",
      "Torchtext is deprecated and the last released version will be 0.18 (this one). You can silence this warning by calling the following at the beginnign of your scripts: `import torchtext; torchtext.disable_torchtext_deprecation_warning()`\n",
      "  warnings.warn(torchtext._TORCHTEXT_DEPRECATION_MSG)\n",
      "C:\\Users\\Akmal Nazim\\AppData\\Local\\Programs\\Python\\Python311\\Lib\\site-packages\\torchtext\\utils.py:4: UserWarning: \n",
      "/!\\ IMPORTANT WARNING ABOUT TORCHTEXT STATUS /!\\ \n",
      "Torchtext is deprecated and the last released version will be 0.18 (this one). You can silence this warning by calling the following at the beginnign of your scripts: `import torchtext; torchtext.disable_torchtext_deprecation_warning()`\n",
      "  warnings.warn(torchtext._TORCHTEXT_DEPRECATION_MSG)\n",
      "C:\\Users\\Akmal Nazim\\AppData\\Local\\Programs\\Python\\Python311\\Lib\\site-packages\\torchtext\\data\\__init__.py:4: UserWarning: \n",
      "/!\\ IMPORTANT WARNING ABOUT TORCHTEXT STATUS /!\\ \n",
      "Torchtext is deprecated and the last released version will be 0.18 (this one). You can silence this warning by calling the following at the beginnign of your scripts: `import torchtext; torchtext.disable_torchtext_deprecation_warning()`\n",
      "  warnings.warn(torchtext._TORCHTEXT_DEPRECATION_MSG)\n",
      "[nltk_data] Downloading package stopwords to C:\\Users\\Akmal\n",
      "[nltk_data]     Nazim\\AppData\\Roaming\\nltk_data...\n",
      "[nltk_data]   Package stopwords is already up-to-date!\n",
      "[nltk_data] Downloading package punkt to C:\\Users\\Akmal\n",
      "[nltk_data]     Nazim\\AppData\\Roaming\\nltk_data...\n",
      "[nltk_data]   Package punkt is already up-to-date!\n",
      "[nltk_data] Downloading package wordnet to C:\\Users\\Akmal\n",
      "[nltk_data]     Nazim\\AppData\\Roaming\\nltk_data...\n",
      "[nltk_data]   Package wordnet is already up-to-date!\n"
     ]
    }
   ],
   "execution_count": 1
  },
  {
   "metadata": {
    "ExecuteTime": {
     "end_time": "2024-05-26T17:28:18.924218Z",
     "start_time": "2024-05-26T17:28:18.838344Z"
    }
   },
   "cell_type": "code",
   "source": [
    "# Load the dataset\n",
    "df = pd.read_csv(\"cyberbullying_tweets.csv\")"
   ],
   "id": "1eca2af7b3a5b401",
   "outputs": [],
   "execution_count": 2
  },
  {
   "metadata": {
    "ExecuteTime": {
     "end_time": "2024-05-26T17:28:18.961079Z",
     "start_time": "2024-05-26T17:28:18.925136Z"
    }
   },
   "cell_type": "code",
   "source": [
    "# Describe the data\n",
    "df.describe()\n",
    "df.info()\n",
    "df.shape"
   ],
   "id": "8cee80d2647f60e2",
   "outputs": [
    {
     "name": "stdout",
     "output_type": "stream",
     "text": [
      "<class 'pandas.core.frame.DataFrame'>\n",
      "RangeIndex: 47692 entries, 0 to 47691\n",
      "Data columns (total 2 columns):\n",
      " #   Column              Non-Null Count  Dtype \n",
      "---  ------              --------------  ----- \n",
      " 0   tweet_text          47692 non-null  object\n",
      " 1   cyberbullying_type  47692 non-null  object\n",
      "dtypes: object(2)\n",
      "memory usage: 745.3+ KB\n"
     ]
    },
    {
     "data": {
      "text/plain": [
       "(47692, 2)"
      ]
     },
     "execution_count": 3,
     "metadata": {},
     "output_type": "execute_result"
    }
   ],
   "execution_count": 3
  },
  {
   "metadata": {
    "ExecuteTime": {
     "end_time": "2024-05-26T17:28:18.969400Z",
     "start_time": "2024-05-26T17:28:18.961588Z"
    }
   },
   "cell_type": "code",
   "source": [
    "# Checking the missing data\n",
    "df.isnull().sum()"
   ],
   "id": "d4249fa50070294a",
   "outputs": [
    {
     "data": {
      "text/plain": [
       "tweet_text            0\n",
       "cyberbullying_type    0\n",
       "dtype: int64"
      ]
     },
     "execution_count": 4,
     "metadata": {},
     "output_type": "execute_result"
    }
   ],
   "execution_count": 4
  },
  {
   "metadata": {
    "ExecuteTime": {
     "end_time": "2024-05-26T17:28:18.977333Z",
     "start_time": "2024-05-26T17:28:18.969400Z"
    }
   },
   "cell_type": "code",
   "source": "df.cyberbullying_type.value_counts()",
   "id": "1c49d34592f18728",
   "outputs": [
    {
     "data": {
      "text/plain": [
       "cyberbullying_type\n",
       "religion               7998\n",
       "age                    7992\n",
       "gender                 7973\n",
       "ethnicity              7961\n",
       "not_cyberbullying      7945\n",
       "other_cyberbullying    7823\n",
       "Name: count, dtype: int64"
      ]
     },
     "execution_count": 5,
     "metadata": {},
     "output_type": "execute_result"
    }
   ],
   "execution_count": 5
  },
  {
   "metadata": {
    "ExecuteTime": {
     "end_time": "2024-05-26T17:28:18.988970Z",
     "start_time": "2024-05-26T17:28:18.978340Z"
    }
   },
   "cell_type": "code",
   "source": [
    "# Clean emojis from text\n",
    "def strip_emoji(text):\n",
    "    return emoji.demojize(text)\n",
    "\n",
    "# Remove punctuations, stopwords, links, mentions and new line characters\n",
    "def strip_all_entities(text):\n",
    "    text = re.sub(r'\\r|\\n', ' ', text.lower())  # Replace newline and carriage return with space, and convert to lowercase\n",
    "    text = re.sub(r\"(?:\\@|https?\\://)\\S+\", \"\", text)  # Remove links and mentions\n",
    "    text = re.sub(r'[^\\x00-\\x7f]', '', text)  # Remove non-ASCII characters\n",
    "    banned_list = string.punctuation\n",
    "    table = str.maketrans('', '', banned_list)\n",
    "    text = text.translate(table)\n",
    "    text = ' '.join(word for word in text.split() if word not in stop_words)\n",
    "    return text\n",
    "\n",
    "# Clean hashtags at the end of the sentence, and keep those in the middle of the sentence by removing just the # symbol\n",
    "def clean_hashtags(tweet):\n",
    "    # Remove hashtags at the end of the sentence\n",
    "    new_tweet = re.sub(r'(\\s+#[\\w-]+)+\\s*$', '', tweet).strip()\n",
    "    \n",
    "    # Remove the # symbol from hashtags in the middle of the sentence\n",
    "    new_tweet = re.sub(r'#([\\w-]+)', r'\\1', new_tweet).strip()\n",
    "    \n",
    "    return new_tweet\n",
    "\n",
    "# Filter special characters such as & and $ present in some words\n",
    "def filter_chars(text):\n",
    "    return ' '.join('' if ('$' in word) or ('&' in word) else word for word in text.split())\n",
    "\n",
    "# Remove multiple spaces\n",
    "def remove_mult_spaces(text):\n",
    "    return re.sub(r\"\\s\\s+\", \" \", text)\n",
    "\n",
    "# Function to check if the text is in English, and return an empty string if it's not\n",
    "def filter_non_english(text):\n",
    "    try:\n",
    "        lang = detect(text)\n",
    "    except LangDetectException:\n",
    "        lang = \"unknown\"\n",
    "    return text if lang == \"en\" else \"\"\n",
    "\n",
    "# Expand contractions\n",
    "def expand_contractions(text):\n",
    "    return contractions.fix(text)\n",
    "\n",
    "# Remove numbers\n",
    "def remove_numbers(text):\n",
    "    return re.sub(r'\\d+', '', text)\n",
    "\n",
    "# Lemmatize words\n",
    "def lemmatize(text):\n",
    "    words = word_tokenize(text)\n",
    "    lemmatized_words = [lemmatizer.lemmatize(word) for word in words]\n",
    "    return ' '.join(lemmatized_words)\n",
    "\n",
    "# Remove short words\n",
    "def remove_short_words(text, min_len=2):\n",
    "    words = text.split()\n",
    "    long_words = [word for word in words if len(word) >= min_len]\n",
    "    return ' '.join(long_words)\n",
    "\n",
    "# Replace elongated words with their base form\n",
    "def replace_elongated_words(text):\n",
    "    regex_pattern = r'\\b(\\w+)((\\w)\\3{2,})(\\w*)\\b'\n",
    "    return re.sub(regex_pattern, r'\\1\\3\\4', text)\n",
    "\n",
    "# Remove repeated punctuation\n",
    "def remove_repeated_punctuation(text):\n",
    "    return re.sub(r'[\\?\\.\\!]+(?=[\\?\\.\\!])', '', text)\n",
    "\n",
    "# Remove extra whitespace\n",
    "def remove_extra_whitespace(text):\n",
    "    return ' '.join(text.split())\n",
    "\n",
    "def remove_url_shorteners(text):\n",
    "    return re.sub(r'(?:http[s]?://)?(?:www\\.)?(?:bit\\.ly|goo\\.gl|t\\.co|tinyurl\\.com|tr\\.im|is\\.gd|cli\\.gs|u\\.nu|url\\.ie|tiny\\.cc|alturl\\.com|ow\\.ly|bit\\.do|adoro\\.to)\\S+', '', text)\n",
    "\n",
    "# Remove spaces at the beginning and end of the tweet\n",
    "def remove_spaces_tweets(tweet):\n",
    "    return tweet.strip()\n",
    "\n",
    "# Remove short tweets\n",
    "def remove_short_tweets(tweet, min_words=3):\n",
    "    words = tweet.split()\n",
    "    return tweet if len(words) >= min_words else \"\"\n",
    "\n",
    "# Function to call all the cleaning functions in the correct order\n",
    "def clean_tweet(tweet):\n",
    "    tweet = strip_emoji(tweet)\n",
    "    tweet = expand_contractions(tweet)\n",
    "    tweet = filter_non_english(tweet)\n",
    "    tweet = strip_all_entities(tweet)\n",
    "    tweet = clean_hashtags(tweet)\n",
    "    tweet = filter_chars(tweet)\n",
    "    tweet = remove_mult_spaces(tweet)\n",
    "    tweet = remove_numbers(tweet)\n",
    "    tweet = lemmatize(tweet)\n",
    "    tweet = remove_short_words(tweet)\n",
    "    tweet = replace_elongated_words(tweet)\n",
    "    tweet = remove_repeated_punctuation(tweet)\n",
    "    tweet = remove_extra_whitespace(tweet)\n",
    "    tweet = remove_url_shorteners(tweet)\n",
    "    tweet = remove_spaces_tweets(tweet)\n",
    "    tweet = remove_short_tweets(tweet)\n",
    "    tweet = ' '.join(tweet.split())  # Remove multiple spaces between words\n",
    "    return tweet"
   ],
   "id": "80225429a7febb19",
   "outputs": [],
   "execution_count": 6
  },
  {
   "metadata": {
    "ExecuteTime": {
     "end_time": "2024-05-26T17:30:28.662583Z",
     "start_time": "2024-05-26T17:28:18.989978Z"
    }
   },
   "cell_type": "code",
   "source": "df['tweet_clean'] = [clean_tweet(tweet) for tweet in df['tweet_text']]",
   "id": "d70ea7c919305f23",
   "outputs": [],
   "execution_count": 7
  },
  {
   "metadata": {
    "ExecuteTime": {
     "end_time": "2024-05-26T17:30:28.673878Z",
     "start_time": "2024-05-26T17:30:28.663620Z"
    }
   },
   "cell_type": "code",
   "source": "df.drop_duplicates('tweet_clean', inplace=True)",
   "id": "f54bc7009fb00fce",
   "outputs": [],
   "execution_count": 8
  },
  {
   "metadata": {
    "ExecuteTime": {
     "end_time": "2024-05-26T17:30:28.680883Z",
     "start_time": "2024-05-26T17:30:28.674884Z"
    }
   },
   "cell_type": "code",
   "source": "df.cyberbullying_type.value_counts()",
   "id": "1b9a849b138bbb9",
   "outputs": [
    {
     "data": {
      "text/plain": [
       "cyberbullying_type\n",
       "religion               7920\n",
       "age                    7819\n",
       "ethnicity              7415\n",
       "gender                 7283\n",
       "not_cyberbullying      6106\n",
       "other_cyberbullying    4925\n",
       "Name: count, dtype: int64"
      ]
     },
     "execution_count": 9,
     "metadata": {},
     "output_type": "execute_result"
    }
   ],
   "execution_count": 9
  },
  {
   "metadata": {
    "ExecuteTime": {
     "end_time": "2024-05-26T17:30:28.691431Z",
     "start_time": "2024-05-26T17:30:28.682926Z"
    }
   },
   "cell_type": "code",
   "source": "df.head()",
   "id": "46f9620b9c8c085b",
   "outputs": [
    {
     "data": {
      "text/plain": [
       "                                          tweet_text cyberbullying_type  \\\n",
       "0  In other words #katandandre, your food was cra...  not_cyberbullying   \n",
       "1  Why is #aussietv so white? #MKR #theblock #ImA...  not_cyberbullying   \n",
       "2  @XochitlSuckkks a classy whore? Or more red ve...  not_cyberbullying   \n",
       "3  @Jason_Gio meh. :P  thanks for the heads up, b...  not_cyberbullying   \n",
       "4  @RudhoeEnglish This is an ISIS account pretend...  not_cyberbullying   \n",
       "\n",
       "                                         tweet_clean  \n",
       "0             word katandandre food crapilicious mkr  \n",
       "1  aussietv white mkr theblock imacelebrityau tod...  \n",
       "2                    classy whore red velvet cupcake  \n",
       "3  meh thanks head concerned another angry dude t...  \n",
       "4  isi account pretending kurdish account like is...  "
      ],
      "text/html": [
       "<div>\n",
       "<style scoped>\n",
       "    .dataframe tbody tr th:only-of-type {\n",
       "        vertical-align: middle;\n",
       "    }\n",
       "\n",
       "    .dataframe tbody tr th {\n",
       "        vertical-align: top;\n",
       "    }\n",
       "\n",
       "    .dataframe thead th {\n",
       "        text-align: right;\n",
       "    }\n",
       "</style>\n",
       "<table border=\"1\" class=\"dataframe\">\n",
       "  <thead>\n",
       "    <tr style=\"text-align: right;\">\n",
       "      <th></th>\n",
       "      <th>tweet_text</th>\n",
       "      <th>cyberbullying_type</th>\n",
       "      <th>tweet_clean</th>\n",
       "    </tr>\n",
       "  </thead>\n",
       "  <tbody>\n",
       "    <tr>\n",
       "      <th>0</th>\n",
       "      <td>In other words #katandandre, your food was cra...</td>\n",
       "      <td>not_cyberbullying</td>\n",
       "      <td>word katandandre food crapilicious mkr</td>\n",
       "    </tr>\n",
       "    <tr>\n",
       "      <th>1</th>\n",
       "      <td>Why is #aussietv so white? #MKR #theblock #ImA...</td>\n",
       "      <td>not_cyberbullying</td>\n",
       "      <td>aussietv white mkr theblock imacelebrityau tod...</td>\n",
       "    </tr>\n",
       "    <tr>\n",
       "      <th>2</th>\n",
       "      <td>@XochitlSuckkks a classy whore? Or more red ve...</td>\n",
       "      <td>not_cyberbullying</td>\n",
       "      <td>classy whore red velvet cupcake</td>\n",
       "    </tr>\n",
       "    <tr>\n",
       "      <th>3</th>\n",
       "      <td>@Jason_Gio meh. :P  thanks for the heads up, b...</td>\n",
       "      <td>not_cyberbullying</td>\n",
       "      <td>meh thanks head concerned another angry dude t...</td>\n",
       "    </tr>\n",
       "    <tr>\n",
       "      <th>4</th>\n",
       "      <td>@RudhoeEnglish This is an ISIS account pretend...</td>\n",
       "      <td>not_cyberbullying</td>\n",
       "      <td>isi account pretending kurdish account like is...</td>\n",
       "    </tr>\n",
       "  </tbody>\n",
       "</table>\n",
       "</div>"
      ]
     },
     "execution_count": 10,
     "metadata": {},
     "output_type": "execute_result"
    }
   ],
   "execution_count": 10
  },
  {
   "metadata": {
    "ExecuteTime": {
     "end_time": "2024-05-26T17:30:28.697892Z",
     "start_time": "2024-05-26T17:30:28.692437Z"
    }
   },
   "cell_type": "code",
   "source": [
    "# Data preprocessing\n",
    "labEncoder = LabelEncoder()\n",
    "labelsEncoded = labEncoder.fit_transform(df[\"cyberbullying_type\"])"
   ],
   "id": "ae10861e7bc5ed68",
   "outputs": [],
   "execution_count": 11
  },
  {
   "metadata": {
    "ExecuteTime": {
     "end_time": "2024-05-26T17:30:28.711172Z",
     "start_time": "2024-05-26T17:30:28.698898Z"
    }
   },
   "cell_type": "code",
   "source": [
    "# Split data\n",
    "train_texts, val_texts, train_labels, val_labels = train_test_split(df['tweet_clean'], labelsEncoded, test_size=0.2, random_state=42)\n",
    "print((train_texts.shape, train_labels.shape, val_texts.shape, val_labels.shape))\n",
    "\n",
    "# Reset indices\n",
    "train_texts = train_texts.reset_index(drop=True)\n",
    "val_texts = val_texts.reset_index(drop=True)"
   ],
   "id": "e0a658aee18144ed",
   "outputs": [
    {
     "name": "stdout",
     "output_type": "stream",
     "text": [
      "((33174,), (33174,), (8294,), (8294,))\n"
     ]
    }
   ],
   "execution_count": 12
  },
  {
   "metadata": {
    "ExecuteTime": {
     "end_time": "2024-05-26T17:30:29.008248Z",
     "start_time": "2024-05-26T17:30:28.712179Z"
    }
   },
   "cell_type": "code",
   "source": [
    "# Define a simple tokenizer\n",
    "tokenizer = get_tokenizer(\"basic_english\")\n",
    "\n",
    "# Build vocabulary using GloVe embeddings\n",
    "glove = GloVe(name='6B', dim=100)"
   ],
   "id": "6c19a69eee1365c6",
   "outputs": [],
   "execution_count": 13
  },
  {
   "metadata": {
    "ExecuteTime": {
     "end_time": "2024-05-26T17:30:29.034756Z",
     "start_time": "2024-05-26T17:30:29.009252Z"
    }
   },
   "cell_type": "code",
   "source": [
    "# Add a padding token to the GloVe vocabulary\n",
    "glove.stoi['<pad>'] = len(glove.stoi)\n",
    "pad_index = glove.stoi['<pad>']\n",
    "glove_vectors = torch.cat([glove.vectors, torch.zeros(1, 100)], dim=0)"
   ],
   "id": "442f106ef7b4902c",
   "outputs": [],
   "execution_count": 14
  },
  {
   "metadata": {
    "ExecuteTime": {
     "end_time": "2024-05-26T17:30:29.040014Z",
     "start_time": "2024-05-26T17:30:29.035759Z"
    }
   },
   "cell_type": "code",
   "source": [
    "def text_pipeline(text):\n",
    "    return [glove.stoi[token] for token in tokenizer(text) if token in glove.stoi]"
   ],
   "id": "4f2f66f20ed91399",
   "outputs": [],
   "execution_count": 15
  },
  {
   "metadata": {
    "ExecuteTime": {
     "end_time": "2024-05-26T17:30:29.047011Z",
     "start_time": "2024-05-26T17:30:29.041540Z"
    }
   },
   "cell_type": "code",
   "source": [
    "class TextClassificationDataset(Dataset):\n",
    "\n",
    "    def __init__(self, texts, labels):\n",
    "        self.texts = texts\n",
    "        self.labels = labels\n",
    "\n",
    "    def __len__(self):\n",
    "        return len(self.texts)\n",
    "\n",
    "    def __getitem__(self, idx):\n",
    "        text = self.texts[idx]\n",
    "        label = self.labels[idx]\n",
    "        token_ids = torch.tensor(text_pipeline(text), dtype=torch.long)\n",
    "        return token_ids, torch.tensor(label, dtype=torch.long)"
   ],
   "id": "2d0d9fe08288df2f",
   "outputs": [],
   "execution_count": 16
  },
  {
   "metadata": {
    "ExecuteTime": {
     "end_time": "2024-05-26T17:30:29.053221Z",
     "start_time": "2024-05-26T17:30:29.048015Z"
    }
   },
   "cell_type": "code",
   "source": [
    "# Create datasets and dataloaders\n",
    "train_dataset = TextClassificationDataset(train_texts, train_labels)\n",
    "val_dataset = TextClassificationDataset(val_texts, val_labels)"
   ],
   "id": "39db44174352a7e",
   "outputs": [],
   "execution_count": 17
  },
  {
   "metadata": {
    "ExecuteTime": {
     "end_time": "2024-05-26T17:30:29.063424Z",
     "start_time": "2024-05-26T17:30:29.054126Z"
    }
   },
   "cell_type": "code",
   "source": [
    "def collate_batch(batch):\n",
    "    text_list, label_list = [], []\n",
    "    for (_text, _label) in batch:\n",
    "        text_list.append(_text)\n",
    "        label_list.append(_label)\n",
    "    text_list = pad_sequence(text_list, padding_value=pad_index)\n",
    "    label_list = torch.tensor(label_list, dtype=torch.long)\n",
    "    return text_list.t(), label_list"
   ],
   "id": "a82ca00e0c1ec7c7",
   "outputs": [],
   "execution_count": 18
  },
  {
   "metadata": {
    "ExecuteTime": {
     "end_time": "2024-05-26T17:30:29.070938Z",
     "start_time": "2024-05-26T17:30:29.064429Z"
    }
   },
   "cell_type": "code",
   "source": [
    "train_dataloader = DataLoader(train_dataset, batch_size=32, shuffle=True, collate_fn=collate_batch)\n",
    "val_dataloader = DataLoader(val_dataset, batch_size=32, collate_fn=collate_batch)"
   ],
   "id": "3f6fe30533f49267",
   "outputs": [],
   "execution_count": 19
  },
  {
   "metadata": {
    "ExecuteTime": {
     "end_time": "2024-05-26T17:30:29.078040Z",
     "start_time": "2024-05-26T17:30:29.071945Z"
    }
   },
   "cell_type": "code",
   "source": [
    "class LSTMClassifier(nn.Module):\n",
    "    def __init__(self, embedding_dim, hidden_dim, vocab_size, num_classes):\n",
    "        super(LSTMClassifier, self).__init__()\n",
    "        self.embedding = nn.Embedding.from_pretrained(glove_vectors, freeze=False)\n",
    "        self.lstm = nn.LSTM(embedding_dim, hidden_dim, batch_first=True)\n",
    "        self.dropout = nn.Dropout(0.1)\n",
    "        self.fc = nn.Linear(hidden_dim, num_classes)\n",
    "\n",
    "    def forward(self, input_ids):\n",
    "        embeds = self.embedding(input_ids)\n",
    "        lstm_out, _ = self.lstm(embeds)\n",
    "        pooled_output = lstm_out[:, -1, :]  # Use the output of the last LSTM cell\n",
    "        x = self.dropout(pooled_output)\n",
    "        logits = self.fc(x)\n",
    "        return logits"
   ],
   "id": "4f307c354a8a4093",
   "outputs": [],
   "execution_count": 20
  },
  {
   "metadata": {
    "ExecuteTime": {
     "end_time": "2024-05-26T17:30:30.607575Z",
     "start_time": "2024-05-26T17:30:29.079045Z"
    }
   },
   "cell_type": "code",
   "source": [
    "# Initialize model and optimizer\n",
    "device = torch.device(\"cuda\" if torch.cuda.is_available() else \"cpu\")\n",
    "model = LSTMClassifier(embedding_dim=100, hidden_dim=128, vocab_size=len(glove.stoi), num_classes=6).to(device)\n",
    "\n",
    "optimizer = AdamW(model.parameters(), lr=1e-3)"
   ],
   "id": "b84d9b4e5c0ca609",
   "outputs": [],
   "execution_count": 21
  },
  {
   "metadata": {
    "ExecuteTime": {
     "end_time": "2024-05-26T17:30:30.611704Z",
     "start_time": "2024-05-26T17:30:30.607575Z"
    }
   },
   "cell_type": "code",
   "source": [
    "def train(model, data_loader, optimizer, device):\n",
    "    model.train()\n",
    "    for batch in data_loader:\n",
    "        optimizer.zero_grad()\n",
    "        input_ids, labels = batch\n",
    "        input_ids = input_ids.to(device)\n",
    "        labels = labels.to(device)\n",
    "        outputs = model(input_ids)\n",
    "        loss = nn.CrossEntropyLoss()(outputs, labels)\n",
    "        loss.backward()\n",
    "        optimizer.step()"
   ],
   "id": "b31351853a5f2bc7",
   "outputs": [],
   "execution_count": 22
  },
  {
   "metadata": {
    "ExecuteTime": {
     "end_time": "2024-05-26T17:30:30.618275Z",
     "start_time": "2024-05-26T17:30:30.612709Z"
    }
   },
   "cell_type": "code",
   "source": [
    "def evaluate(model, data_loader, device):\n",
    "    model.eval()\n",
    "    predictions = []\n",
    "    actual = []\n",
    "    with torch.no_grad():\n",
    "        for batch in data_loader:\n",
    "            input_ids, labels = batch\n",
    "            input_ids = input_ids.to(device)\n",
    "            labels = labels.to(device)\n",
    "            outputs = model(input_ids)\n",
    "            _, preds = torch.max(outputs, dim=1)\n",
    "            predictions.extend(preds.cpu().tolist())\n",
    "            actual.extend(labels.cpu().tolist())\n",
    "    return accuracy_score(y_true=actual, y_pred=predictions), classification_report(y_true=actual, y_pred=predictions), actual, predictions"
   ],
   "id": "f0d413318bba0aa9",
   "outputs": [],
   "execution_count": 23
  },
  {
   "metadata": {
    "ExecuteTime": {
     "end_time": "2024-05-26T17:32:21.873482Z",
     "start_time": "2024-05-26T17:30:30.622806Z"
    }
   },
   "cell_type": "code",
   "source": [
    "# Train model\n",
    "for epoch in range(5):\n",
    "    print(f\"Epoch {epoch+1}/5\")\n",
    "    train(model, train_dataloader, optimizer, device)\n",
    "    accuracy, report, actual, predictions = evaluate(model, val_dataloader, device)\n",
    "    print(f\"Validation Accuracy: {accuracy:.4f}\")\n",
    "    print(report)"
   ],
   "id": "1c1ceb16b640dcf9",
   "outputs": [
    {
     "name": "stdout",
     "output_type": "stream",
     "text": [
      "Epoch 1/5\n",
      "Validation Accuracy: 0.7898\n",
      "              precision    recall  f1-score   support\n",
      "\n",
      "           0       0.96      0.97      0.96      1550\n",
      "           1       0.99      0.94      0.96      1498\n",
      "           2       0.94      0.73      0.82      1453\n",
      "           3       0.44      0.82      0.57      1258\n",
      "           4       0.26      0.05      0.08       957\n",
      "           5       0.92      0.96      0.94      1578\n",
      "\n",
      "    accuracy                           0.79      8294\n",
      "   macro avg       0.75      0.74      0.72      8294\n",
      "weighted avg       0.79      0.79      0.77      8294\n",
      "\n",
      "Epoch 2/5\n",
      "Validation Accuracy: 0.7984\n",
      "              precision    recall  f1-score   support\n",
      "\n",
      "           0       0.94      0.98      0.96      1550\n",
      "           1       0.97      0.97      0.97      1498\n",
      "           2       0.97      0.72      0.83      1453\n",
      "           3       0.52      0.19      0.28      1258\n",
      "           4       0.42      0.90      0.57       957\n",
      "           5       0.93      0.95      0.94      1578\n",
      "\n",
      "    accuracy                           0.80      8294\n",
      "   macro avg       0.79      0.79      0.76      8294\n",
      "weighted avg       0.83      0.80      0.79      8294\n",
      "\n",
      "Epoch 3/5\n",
      "Validation Accuracy: 0.8161\n",
      "              precision    recall  f1-score   support\n",
      "\n",
      "           0       0.98      0.96      0.97      1550\n",
      "           1       0.99      0.95      0.97      1498\n",
      "           2       0.91      0.80      0.85      1453\n",
      "           3       0.62      0.29      0.40      1258\n",
      "           4       0.44      0.84      0.58       957\n",
      "           5       0.94      0.95      0.94      1578\n",
      "\n",
      "    accuracy                           0.82      8294\n",
      "   macro avg       0.81      0.80      0.79      8294\n",
      "weighted avg       0.84      0.82      0.81      8294\n",
      "\n",
      "Epoch 4/5\n",
      "Validation Accuracy: 0.8294\n",
      "              precision    recall  f1-score   support\n",
      "\n",
      "           0       0.97      0.97      0.97      1550\n",
      "           1       0.96      0.98      0.97      1498\n",
      "           2       0.89      0.82      0.85      1453\n",
      "           3       0.59      0.45      0.51      1258\n",
      "           4       0.49      0.69      0.58       957\n",
      "           5       0.94      0.94      0.94      1578\n",
      "\n",
      "    accuracy                           0.83      8294\n",
      "   macro avg       0.81      0.81      0.80      8294\n",
      "weighted avg       0.84      0.83      0.83      8294\n",
      "\n",
      "Epoch 5/5\n",
      "Validation Accuracy: 0.8354\n",
      "              precision    recall  f1-score   support\n",
      "\n",
      "           0       0.96      0.97      0.97      1550\n",
      "           1       0.97      0.97      0.97      1498\n",
      "           2       0.83      0.86      0.85      1453\n",
      "           3       0.63      0.46      0.53      1258\n",
      "           4       0.52      0.68      0.59       957\n",
      "           5       0.95      0.95      0.95      1578\n",
      "\n",
      "    accuracy                           0.84      8294\n",
      "   macro avg       0.81      0.81      0.81      8294\n",
      "weighted avg       0.84      0.84      0.83      8294\n",
      "\n"
     ]
    }
   ],
   "execution_count": 24
  },
  {
   "metadata": {
    "ExecuteTime": {
     "end_time": "2024-05-26T17:32:22.170825Z",
     "start_time": "2024-05-26T17:32:21.873482Z"
    }
   },
   "cell_type": "code",
   "source": [
    "# Compute confusion matrix\n",
    "cm = confusion_matrix(actual, predictions)\n",
    "\n",
    "# Plot confusion matrix\n",
    "plt.figure(figsize=(10, 7))\n",
    "sns.heatmap(cm, annot=True, fmt='d', cmap='Purples', xticklabels=labEncoder.classes_, yticklabels=labEncoder.classes_)\n",
    "plt.xlabel('Predicted')\n",
    "plt.ylabel('Actual')\n",
    "plt.title('Confusion Matrix')\n",
    "plt.show()"
   ],
   "id": "d59c6d3ced86f55e",
   "outputs": [
    {
     "data": {
      "text/plain": [
       "<Figure size 1000x700 with 2 Axes>"
      ],
      "image/png": "[encoded data removed]"
     },
     "metadata": {},
     "output_type": "display_data"
    }
   ],
   "execution_count": 25
  },
  {
   "metadata": {
    "ExecuteTime": {
     "end_time": "2024-05-26T17:32:22.175693Z",
     "start_time": "2024-05-26T17:32:22.171904Z"
    }
   },
   "cell_type": "code",
   "source": [
    "def predict_class(text, model, device, classes):\n",
    "    model.eval()\n",
    "    token_ids = torch.tensor(text_pipeline(text), dtype=torch.long).unsqueeze(0).to(device)\n",
    "    with torch.no_grad():\n",
    "        outputs = model(token_ids)\n",
    "        _, preds = torch.max(outputs, dim=1)\n",
    "    return classes[preds.item()]"
   ],
   "id": "2dd04266acc500e9",
   "outputs": [],
   "execution_count": 26
  },
  {
   "metadata": {
    "ExecuteTime": {
     "end_time": "2024-05-26T17:32:22.197195Z",
     "start_time": "2024-05-26T17:32:22.175693Z"
    }
   },
   "cell_type": "code",
   "source": [
    "# Test predictions\n",
    "for _ in range(10):\n",
    "    random_idx = torch.randint(len(val_texts), size=(1,)).item()\n",
    "    text, label = val_texts[random_idx], labEncoder.classes_[val_labels[random_idx]]\n",
    "    prediction = predict_class(text, model, device, classes=labEncoder.classes_)\n",
    "    print(\"=============================================\")\n",
    "    print(f\"Text:\\n{text}\")\n",
    "    print(f\"Actual: {label}\\tPredicted: {prediction}\")\n",
    "    print(\"=============================================\")"
   ],
   "id": "1971db8d94ef0d2e",
   "outputs": [
    {
     "name": "stdout",
     "output_type": "stream",
     "text": [
      "=============================================\n",
      "Text:\n",
      "fix dumb as glitchy steam shit retarded nigger fuck\n",
      "Actual: ethnicity\tPredicted: ethnicity\n",
      "=============================================\n",
      "=============================================\n",
      "Text:\n",
      "open asked hard feeling good luck\n",
      "Actual: not_cyberbullying\tPredicted: age\n",
      "=============================================\n",
      "=============================================\n",
      "Text:\n",
      "daughter called bitch woman way often men know true female call bitch high school year men whole life bullshit\n",
      "Actual: gender\tPredicted: gender\n",
      "=============================================\n",
      "=============================================\n",
      "Text:\n",
      "nothing radical left embrace christianity trump pro life patriotic support christian value potus surviving year coup deserves support fire christianity today editor boycott ct change\n",
      "Actual: religion\tPredicted: religion\n",
      "=============================================\n",
      "=============================================\n",
      "Text:\n",
      "main nigger dumb fuck though\n",
      "Actual: ethnicity\tPredicted: ethnicity\n",
      "=============================================\n",
      "=============================================\n",
      "Text:\n",
      "know anything else white history moment got school shit black history teach shit past surface level\n",
      "Actual: ethnicity\tPredicted: ethnicity\n",
      "=============================================\n",
      "=============================================\n",
      "Text:\n",
      "islam forcing people muslim even perverted imam know\n",
      "Actual: religion\tPredicted: religion\n",
      "=============================================\n",
      "=============================================\n",
      "Text:\n",
      "meangive cop fucking pepsi get shot racism terrible\n",
      "Actual: ethnicity\tPredicted: ethnicity\n",
      "=============================================\n",
      "=============================================\n",
      "Text:\n",
      "yeah got cron kick must kicking properly\n",
      "Actual: not_cyberbullying\tPredicted: other_cyberbullying\n",
      "=============================================\n",
      "=============================================\n",
      "Text:\n",
      "scare accurate feel even bully high school thankfully lmao\n",
      "Actual: age\tPredicted: age\n",
      "=============================================\n"
     ]
    }
   ],
   "execution_count": 27
  }
 ],
 "metadata": {
  "kernelspec": {
   "display_name": "Python 3",
   "language": "python",
   "name": "python3"
  },
  "language_info": {
   "codemirror_mode": {
    "name": "ipython",
    "version": 2
   },
   "file_extension": ".py",
   "mimetype": "text/x-python",
   "name": "python",
   "nbconvert_exporter": "python",
   "pygments_lexer": "ipython2",
   "version": "2.7.6"
  }
 },
 "nbformat": 4,
 "nbformat_minor": 5
}
