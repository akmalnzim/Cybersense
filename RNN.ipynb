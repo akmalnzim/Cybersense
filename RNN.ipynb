{
 "cells": [
  {
   "cell_type": "code",
   "id": "initial_id",
   "metadata": {
    "collapsed": true,
    "ExecuteTime": {
     "end_time": "2024-05-26T17:34:51.282788Z",
     "start_time": "2024-05-26T17:34:51.276757Z"
    }
   },
   "source": [
    "import torch\n",
    "from torch import nn\n",
    "from torch.utils.data import DataLoader, Dataset\n",
    "from torch.optim import AdamW\n",
    "from sklearn.model_selection import train_test_split\n",
    "from sklearn.preprocessing import LabelEncoder\n",
    "from sklearn.metrics import accuracy_score, classification_report, confusion_matrix\n",
    "from transformers import BertTokenizer\n",
    "import pandas as pd\n",
    "import re\n",
    "import string\n",
    "import emoji\n",
    "import nltk\n",
    "from nltk.stem import WordNetLemmatizer\n",
    "from nltk.corpus import stopwords\n",
    "from nltk.tokenize import word_tokenize\n",
    "from langdetect import detect, LangDetectException\n",
    "import contractions\n",
    "import seaborn as sns\n",
    "import matplotlib.pyplot as plt\n",
    "\n",
    "# Define stop words for text cleaning\n",
    "nltk.download('stopwords')\n",
    "nltk.download('punkt')\n",
    "nltk.download('wordnet')\n",
    "stop_words = set(stopwords.words('english'))\n",
    "\n",
    "# Initialize lemmatizer for text cleaning\n",
    "lemmatizer = WordNetLemmatizer()"
   ],
   "outputs": [
    {
     "name": "stderr",
     "output_type": "stream",
     "text": [
      "[nltk_data] Downloading package stopwords to C:\\Users\\Akmal\n",
      "[nltk_data]     Nazim\\AppData\\Roaming\\nltk_data...\n",
      "[nltk_data]   Package stopwords is already up-to-date!\n",
      "[nltk_data] Downloading package punkt to C:\\Users\\Akmal\n",
      "[nltk_data]     Nazim\\AppData\\Roaming\\nltk_data...\n",
      "[nltk_data]   Package punkt is already up-to-date!\n",
      "[nltk_data] Downloading package wordnet to C:\\Users\\Akmal\n",
      "[nltk_data]     Nazim\\AppData\\Roaming\\nltk_data...\n",
      "[nltk_data]   Package wordnet is already up-to-date!\n"
     ]
    }
   ],
   "execution_count": 9
  },
  {
   "metadata": {
    "ExecuteTime": {
     "end_time": "2024-05-26T17:34:51.369542Z",
     "start_time": "2024-05-26T17:34:51.286794Z"
    }
   },
   "cell_type": "code",
   "source": [
    "# Load the dataset\n",
    "df = pd.read_csv(\"cyberbullying_tweets.csv\")"
   ],
   "id": "1f1aaeae60fac69b",
   "outputs": [],
   "execution_count": 10
  },
  {
   "metadata": {
    "ExecuteTime": {
     "end_time": "2024-05-26T17:34:51.378668Z",
     "start_time": "2024-05-26T17:34:51.371052Z"
    }
   },
   "cell_type": "code",
   "source": [
    "# Clean emojis from text\n",
    "def strip_emoji(text):\n",
    "    return emoji.demojize(text)\n",
    "\n",
    "# Remove punctuations, stopwords, links, mentions and new line characters\n",
    "def strip_all_entities(text):\n",
    "    text = re.sub(r'\\r|\\n', ' ', text.lower())  # Replace newline and carriage return with space, and convert to lowercase\n",
    "    text = re.sub(r\"(?:\\@|https?\\://)\\S+\", \"\", text)  # Remove links and mentions\n",
    "    text = re.sub(r'[^\\x00-\\x7f]', '', text)  # Remove non-ASCII characters\n",
    "    banned_list = string.punctuation\n",
    "    table = str.maketrans('', '', banned_list)\n",
    "    text = text.translate(table)\n",
    "    text = ' '.join(word for word in text.split() if word not in stop_words)\n",
    "    return text\n",
    "\n",
    "# Clean hashtags at the end of the sentence, and keep those in the middle of the sentence by removing just the # symbol\n",
    "def clean_hashtags(tweet):\n",
    "    # Remove hashtags at the end of the sentence\n",
    "    new_tweet = re.sub(r'(\\s+#[\\w-]+)+\\s*$', '', tweet).strip()\n",
    "    \n",
    "    # Remove the # symbol from hashtags in the middle of the sentence\n",
    "    new_tweet = re.sub(r'#([\\w-]+)', r'\\1', new_tweet).strip()\n",
    "    \n",
    "    return new_tweet\n",
    "\n",
    "# Filter special characters such as & and $ present in some words\n",
    "def filter_chars(text):\n",
    "    return ' '.join('' if ('$' in word) or ('&' in word) else word for word in text.split())\n",
    "\n",
    "# Remove multiple spaces\n",
    "def remove_mult_spaces(text):\n",
    "    return re.sub(r\"\\s\\s+\", \" \", text)\n",
    "\n",
    "# Function to check if the text is in English, and return an empty string if it's not\n",
    "def filter_non_english(text):\n",
    "    try:\n",
    "        lang = detect(text)\n",
    "    except LangDetectException:\n",
    "        lang = \"unknown\"\n",
    "    return text if lang == \"en\" else \"\"\n",
    "\n",
    "# Expand contractions\n",
    "def expand_contractions(text):\n",
    "    return contractions.fix(text)\n",
    "\n",
    "# Remove numbers\n",
    "def remove_numbers(text):\n",
    "    return re.sub(r'\\d+', '', text)\n",
    "\n",
    "# Lemmatize words\n",
    "def lemmatize(text):\n",
    "    words = word_tokenize(text)\n",
    "    lemmatized_words = [lemmatizer.lemmatize(word) for word in words]\n",
    "    return ' '.join(lemmatized_words)\n",
    "\n",
    "# Remove short words\n",
    "def remove_short_words(text, min_len=2):\n",
    "    words = text.split()\n",
    "    long_words = [word for word in words if len(word) >= min_len]\n",
    "    return ' '.join(long_words)\n",
    "\n",
    "# Replace elongated words with their base form\n",
    "def replace_elongated_words(text):\n",
    "    regex_pattern = r'\\b(\\w+)((\\w)\\3{2,})(\\w*)\\b'\n",
    "    return re.sub(regex_pattern, r'\\1\\3\\4', text)\n",
    "\n",
    "# Remove repeated punctuation\n",
    "def remove_repeated_punctuation(text):\n",
    "    return re.sub(r'[\\?\\.\\!]+(?=[\\?\\.\\!])', '', text)\n",
    "\n",
    "# Remove extra whitespace\n",
    "def remove_extra_whitespace(text):\n",
    "    return ' '.join(text.split())\n",
    "\n",
    "def remove_url_shorteners(text):\n",
    "    return re.sub(r'(?:http[s]?://)?(?:www\\.)?(?:bit\\.ly|goo\\.gl|t\\.co|tinyurl\\.com|tr\\.im|is\\.gd|cli\\.gs|u\\.nu|url\\.ie|tiny\\.cc|alturl\\.com|ow\\.ly|bit\\.do|adoro\\.to)\\S+', '', text)\n",
    "\n",
    "# Remove spaces at the beginning and end of the tweet\n",
    "def remove_spaces_tweets(tweet):\n",
    "    return tweet.strip()\n",
    "\n",
    "# Remove short tweets\n",
    "def remove_short_tweets(tweet, min_words=3):\n",
    "    words = tweet.split()\n",
    "    return tweet if len(words) >= min_words else \"\"\n",
    "\n",
    "# Function to call all the cleaning functions in the correct order\n",
    "def clean_tweet(tweet):\n",
    "    tweet = strip_emoji(tweet)\n",
    "    tweet = expand_contractions(tweet)\n",
    "    tweet = filter_non_english(tweet)\n",
    "    tweet = strip_all_entities(tweet)\n",
    "    tweet = clean_hashtags(tweet)\n",
    "    tweet = filter_chars(tweet)\n",
    "    tweet = remove_mult_spaces(tweet)\n",
    "    tweet = remove_numbers(tweet)\n",
    "    tweet = lemmatize(tweet)\n",
    "    tweet = remove_short_words(tweet)\n",
    "    tweet = replace_elongated_words(tweet)\n",
    "    tweet = remove_repeated_punctuation(tweet)\n",
    "    tweet = remove_extra_whitespace(tweet)\n",
    "    tweet = remove_url_shorteners(tweet)\n",
    "    tweet = remove_spaces_tweets(tweet)\n",
    "    tweet = remove_short_tweets(tweet)\n",
    "    tweet = ' '.join(tweet.split())  # Remove multiple spaces between words\n",
    "    return tweet"
   ],
   "id": "4a435d933db72b0d",
   "outputs": [],
   "execution_count": 11
  },
  {
   "metadata": {
    "ExecuteTime": {
     "end_time": "2024-05-26T17:36:56.653926Z",
     "start_time": "2024-05-26T17:34:51.379675Z"
    }
   },
   "cell_type": "code",
   "source": "df['tweet_clean'] = [clean_tweet(tweet) for tweet in df['tweet_text']]",
   "id": "4854a61d2bab72a7",
   "outputs": [],
   "execution_count": 12
  },
  {
   "metadata": {
    "ExecuteTime": {
     "end_time": "2024-05-26T17:36:56.665306Z",
     "start_time": "2024-05-26T17:36:56.654930Z"
    }
   },
   "cell_type": "code",
   "source": "df.drop_duplicates('tweet_clean', inplace=True)",
   "id": "34e5378fc75504d2",
   "outputs": [],
   "execution_count": 13
  },
  {
   "metadata": {
    "ExecuteTime": {
     "end_time": "2024-05-26T17:36:56.679091Z",
     "start_time": "2024-05-26T17:36:56.666312Z"
    }
   },
   "cell_type": "code",
   "source": "df.cyberbullying_type.value_counts()",
   "id": "3957035b63d6deda",
   "outputs": [
    {
     "data": {
      "text/plain": [
       "cyberbullying_type\n",
       "religion               7910\n",
       "age                    7817\n",
       "ethnicity              7425\n",
       "gender                 7286\n",
       "not_cyberbullying      6095\n",
       "other_cyberbullying    4922\n",
       "Name: count, dtype: int64"
      ]
     },
     "execution_count": 14,
     "metadata": {},
     "output_type": "execute_result"
    }
   ],
   "execution_count": 14
  },
  {
   "metadata": {
    "ExecuteTime": {
     "end_time": "2024-05-26T17:36:56.687812Z",
     "start_time": "2024-05-26T17:36:56.679091Z"
    }
   },
   "cell_type": "code",
   "source": [
    "# Data preprocessing\n",
    "labEncoder = LabelEncoder()\n",
    "labelsEncoded = labEncoder.fit_transform(df[\"cyberbullying_type\"])"
   ],
   "id": "8e10feb51b60cc5",
   "outputs": [],
   "execution_count": 15
  },
  {
   "metadata": {
    "ExecuteTime": {
     "end_time": "2024-05-26T17:36:56.698612Z",
     "start_time": "2024-05-26T17:36:56.688819Z"
    }
   },
   "cell_type": "code",
   "source": [
    "# Split data\n",
    "train_texts, val_texts, train_labels, val_labels = train_test_split(df['tweet_clean'], labelsEncoded, test_size=0.2, random_state=42)\n",
    "\n",
    "# Reset indices\n",
    "train_texts = train_texts.reset_index(drop=True)\n",
    "val_texts = val_texts.reset_index(drop=True)"
   ],
   "id": "ddf8d98fecefa872",
   "outputs": [],
   "execution_count": 16
  },
  {
   "metadata": {
    "ExecuteTime": {
     "end_time": "2024-05-26T17:36:57.512483Z",
     "start_time": "2024-05-26T17:36:56.699627Z"
    }
   },
   "cell_type": "code",
   "source": [
    "# Initialize tokenizer\n",
    "tokenizer = BertTokenizer.from_pretrained('bert-base-uncased')"
   ],
   "id": "871e9b88880ba46f",
   "outputs": [],
   "execution_count": 17
  },
  {
   "metadata": {
    "ExecuteTime": {
     "end_time": "2024-05-26T17:36:57.517578Z",
     "start_time": "2024-05-26T17:36:57.513611Z"
    }
   },
   "cell_type": "code",
   "source": [
    "class TextClassificationDataset(Dataset):\n",
    "\n",
    "    def __init__(self, texts, labels, tokenizer, max_length):\n",
    "        self.texts = texts\n",
    "        self.labels = labels\n",
    "        self.tokenizer = tokenizer\n",
    "        self.max_length = max_length\n",
    "\n",
    "    def __len__(self):\n",
    "        return len(self.texts)\n",
    "\n",
    "    def __getitem__(self, idx):\n",
    "        text = self.texts[idx]\n",
    "        label = self.labels[idx]\n",
    "        encoding = self.tokenizer(text, return_tensors='pt', max_length=self.max_length, padding='max_length', truncation=True)\n",
    "        return {\n",
    "            'input_ids': encoding['input_ids'].flatten(),\n",
    "            'attention_mask': encoding['attention_mask'].flatten(),\n",
    "            'label': torch.tensor(label)\n",
    "        }"
   ],
   "id": "928329f38cd73c25",
   "outputs": [],
   "execution_count": 18
  },
  {
   "metadata": {
    "ExecuteTime": {
     "end_time": "2024-05-26T17:36:57.525005Z",
     "start_time": "2024-05-26T17:36:57.519624Z"
    }
   },
   "cell_type": "code",
   "source": [
    "# Create datasets and dataloaders\n",
    "train_dataset = TextClassificationDataset(train_texts, train_labels, tokenizer=tokenizer, max_length=128)\n",
    "val_dataset = TextClassificationDataset(val_texts, val_labels, tokenizer=tokenizer, max_length=128)\n",
    "\n",
    "train_dataloader = DataLoader(train_dataset, batch_size=32, shuffle=True)\n",
    "val_dataloader = DataLoader(val_dataset, batch_size=32)"
   ],
   "id": "eeee4cdf73e4b732",
   "outputs": [],
   "execution_count": 19
  },
  {
   "metadata": {
    "ExecuteTime": {
     "end_time": "2024-05-26T17:36:57.532022Z",
     "start_time": "2024-05-26T17:36:57.526021Z"
    }
   },
   "cell_type": "code",
   "source": [
    "class RNNClassifier(nn.Module):\n",
    "    def __init__(self, vocab_size, embedding_dim, hidden_dim, num_classes, n_layers=2, bidirectional=True, dropout=0.5):\n",
    "        super(RNNClassifier, self).__init__()\n",
    "        self.embedding = nn.Embedding(vocab_size, embedding_dim)\n",
    "        self.lstm = nn.LSTM(embedding_dim, hidden_dim, n_layers, bidirectional=bidirectional, dropout=dropout, batch_first=True)\n",
    "        self.dropout = nn.Dropout(dropout)\n",
    "        self.fc = nn.Linear(hidden_dim * 2 if bidirectional else hidden_dim, num_classes)\n",
    "\n",
    "    def forward(self, input_ids, attention_mask):\n",
    "        embedded = self.embedding(input_ids)\n",
    "        packed_output, (hidden, cell) = self.lstm(embedded)\n",
    "        if self.lstm.bidirectional:\n",
    "            hidden = self.dropout(torch.cat((hidden[-2,:,:], hidden[-1,:,:]), dim=1))\n",
    "        else:\n",
    "            hidden = self.dropout(hidden[-1,:,:])\n",
    "        output = self.fc(hidden)\n",
    "        return output"
   ],
   "id": "2f1c8284f10c29b5",
   "outputs": [],
   "execution_count": 20
  },
  {
   "metadata": {
    "ExecuteTime": {
     "end_time": "2024-05-26T17:40:55.974042Z",
     "start_time": "2024-05-26T17:40:55.911850Z"
    }
   },
   "cell_type": "code",
   "source": [
    "# Initialize model and optimizer\n",
    "device = torch.device(\"cuda\" if torch.cuda.is_available() else \"cpu\")\n",
    "\n",
    "# Get vocabulary size from tokenizer\n",
    "vocab_size = tokenizer.vocab_size\n",
    "\n",
    "model = RNNClassifier(vocab_size=vocab_size, embedding_dim=128, hidden_dim=256, num_classes=len(labEncoder.classes_)).to(device)\n",
    "\n",
    "optimizer = AdamW(model.parameters(), lr=1e-3)"
   ],
   "id": "f3b139b849c94769",
   "outputs": [],
   "execution_count": 25
  },
  {
   "metadata": {
    "ExecuteTime": {
     "end_time": "2024-05-26T17:40:56.274036Z",
     "start_time": "2024-05-26T17:40:56.270355Z"
    }
   },
   "cell_type": "code",
   "source": [
    "def train(model, data_loader, optimizer, device):\n",
    "    model.train()\n",
    "    for batch in data_loader:\n",
    "        optimizer.zero_grad()\n",
    "        input_ids = batch['input_ids'].to(device)\n",
    "        attention_mask = batch['attention_mask'].to(device)\n",
    "        labels = batch['label'].to(device)\n",
    "        \n",
    "        outputs = model(input_ids=input_ids, attention_mask=attention_mask)\n",
    "        labels = labels.long()\n",
    "        loss = nn.CrossEntropyLoss()(outputs, labels)\n",
    "        loss.backward()\n",
    "        optimizer.step()"
   ],
   "id": "a865641b879d17a2",
   "outputs": [],
   "execution_count": 26
  },
  {
   "metadata": {
    "ExecuteTime": {
     "end_time": "2024-05-26T17:40:56.650144Z",
     "start_time": "2024-05-26T17:40:56.645630Z"
    }
   },
   "cell_type": "code",
   "source": [
    "def evaluate(model, data_loader, device):\n",
    "    model.eval()\n",
    "    predictions = []\n",
    "    actual = []\n",
    "    with torch.no_grad():\n",
    "        for batch in data_loader:\n",
    "            input_ids = batch['input_ids'].to(device)\n",
    "            attention_mask = batch['attention_mask'].to(device)\n",
    "            labels = batch['label'].to(device)\n",
    "            outputs = model(input_ids=input_ids, attention_mask=attention_mask)\n",
    "            _, preds = torch.max(outputs, dim=1)\n",
    "            predictions.extend(preds.cpu().tolist())\n",
    "            actual.extend(labels.cpu().tolist())\n",
    "    return accuracy_score(y_true=actual, y_pred=predictions), classification_report(y_true=actual, y_pred=predictions), actual, predictions"
   ],
   "id": "2e9c847c268cfe3e",
   "outputs": [],
   "execution_count": 27
  },
  {
   "metadata": {
    "ExecuteTime": {
     "end_time": "2024-05-26T17:45:04.602550Z",
     "start_time": "2024-05-26T17:40:57.330500Z"
    }
   },
   "cell_type": "code",
   "source": [
    "# Train model\n",
    "for epoch in range(5):\n",
    "    print(f\"Epoch {epoch+1}/5\")\n",
    "    train(model, train_dataloader, optimizer, device)\n",
    "    accuracy, report, actual, predictions = evaluate(model, val_dataloader, device)\n",
    "    print(f\"Validation Accuracy: {accuracy:.4f}\")\n",
    "    print(report)"
   ],
   "id": "be99851e52130309",
   "outputs": [
    {
     "name": "stdout",
     "output_type": "stream",
     "text": [
      "Epoch 1/5\n",
      "Validation Accuracy: 0.8205\n",
      "              precision    recall  f1-score   support\n",
      "\n",
      "           0       0.94      0.98      0.96      1534\n",
      "           1       0.96      0.97      0.97      1494\n",
      "           2       0.93      0.80      0.86      1443\n",
      "           3       0.60      0.38      0.46      1257\n",
      "           4       0.47      0.73      0.57       980\n",
      "           5       0.93      0.95      0.94      1583\n",
      "\n",
      "    accuracy                           0.82      8291\n",
      "   macro avg       0.81      0.80      0.79      8291\n",
      "weighted avg       0.83      0.82      0.82      8291\n",
      "\n",
      "Epoch 2/5\n",
      "Validation Accuracy: 0.8416\n",
      "              precision    recall  f1-score   support\n",
      "\n",
      "           0       0.99      0.96      0.97      1534\n",
      "           1       0.97      0.98      0.98      1494\n",
      "           2       0.91      0.83      0.87      1443\n",
      "           3       0.55      0.67      0.61      1257\n",
      "           4       0.56      0.49      0.52       980\n",
      "           5       0.95      0.95      0.95      1583\n",
      "\n",
      "    accuracy                           0.84      8291\n",
      "   macro avg       0.82      0.82      0.82      8291\n",
      "weighted avg       0.85      0.84      0.84      8291\n",
      "\n",
      "Epoch 3/5\n",
      "Validation Accuracy: 0.8442\n",
      "              precision    recall  f1-score   support\n",
      "\n",
      "           0       0.97      0.98      0.97      1534\n",
      "           1       0.99      0.97      0.98      1494\n",
      "           2       0.88      0.87      0.87      1443\n",
      "           3       0.66      0.44      0.52      1257\n",
      "           4       0.52      0.77      0.62       980\n",
      "           5       0.94      0.95      0.95      1583\n",
      "\n",
      "    accuracy                           0.84      8291\n",
      "   macro avg       0.83      0.83      0.82      8291\n",
      "weighted avg       0.85      0.84      0.84      8291\n",
      "\n",
      "Epoch 4/5\n",
      "Validation Accuracy: 0.8447\n",
      "              precision    recall  f1-score   support\n",
      "\n",
      "           0       0.98      0.97      0.97      1534\n",
      "           1       0.96      0.98      0.97      1494\n",
      "           2       0.85      0.88      0.87      1443\n",
      "           3       0.62      0.50      0.56      1257\n",
      "           4       0.56      0.66      0.61       980\n",
      "           5       0.95      0.95      0.95      1583\n",
      "\n",
      "    accuracy                           0.84      8291\n",
      "   macro avg       0.82      0.82      0.82      8291\n",
      "weighted avg       0.84      0.84      0.84      8291\n",
      "\n",
      "Epoch 5/5\n",
      "Validation Accuracy: 0.8479\n",
      "              precision    recall  f1-score   support\n",
      "\n",
      "           0       0.98      0.96      0.97      1534\n",
      "           1       0.98      0.98      0.98      1494\n",
      "           2       0.87      0.87      0.87      1443\n",
      "           3       0.63      0.54      0.58      1257\n",
      "           4       0.57      0.65      0.60       980\n",
      "           5       0.92      0.96      0.94      1583\n",
      "\n",
      "    accuracy                           0.85      8291\n",
      "   macro avg       0.82      0.83      0.82      8291\n",
      "weighted avg       0.85      0.85      0.85      8291\n",
      "\n"
     ]
    }
   ],
   "execution_count": 28
  },
  {
   "metadata": {
    "ExecuteTime": {
     "end_time": "2024-05-26T17:45:10.832580Z",
     "start_time": "2024-05-26T17:45:10.440480Z"
    }
   },
   "cell_type": "code",
   "source": [
    "# Compute confusion matrix\n",
    "cm = confusion_matrix(actual, predictions)\n",
    "\n",
    "# Plot confusion matrix\n",
    "plt.figure(figsize=(10, 7))\n",
    "sns.heatmap(cm, annot=True, fmt='d', cmap='Purples', xticklabels=labEncoder.classes_, yticklabels=labEncoder.classes_)\n",
    "plt.xlabel('Predicted')\n",
    "plt.ylabel('Actual')\n",
    "plt.title('Confusion Matrix')\n",
    "plt.show()"
   ],
   "id": "16139266b17b78bd",
   "outputs": [
    {
     "data": {
      "text/plain": [
       "<Figure size 1000x700 with 2 Axes>"
      ],
      "image/png": "[encoded data removed]"
     },
     "metadata": {},
     "output_type": "display_data"
    }
   ],
   "execution_count": 29
  },
  {
   "metadata": {
    "ExecuteTime": {
     "end_time": "2024-05-26T17:45:16.686731Z",
     "start_time": "2024-05-26T17:45:16.683217Z"
    }
   },
   "cell_type": "code",
   "source": [
    "def predict_class(text, model, tokenizer, device, classes, max_length=128):\n",
    "    model.eval()\n",
    "    encoding = tokenizer(text, return_tensors='pt', max_length=max_length, padding='max_length', truncation=True)\n",
    "    input_ids = encoding['input_ids'].to(device)\n",
    "    attention_mask = encoding['attention_mask'].to(device)\n",
    "\n",
    "    with torch.no_grad():\n",
    "        outputs = model(input_ids=input_ids, attention_mask=attention_mask)\n",
    "        _, preds = torch.max(outputs, dim=1)\n",
    "\n",
    "    return classes[preds.item()]"
   ],
   "id": "cd12b1714396980c",
   "outputs": [],
   "execution_count": 30
  },
  {
   "metadata": {
    "ExecuteTime": {
     "end_time": "2024-05-26T17:45:17.313763Z",
     "start_time": "2024-05-26T17:45:17.050557Z"
    }
   },
   "cell_type": "code",
   "source": [
    "# Test predictions\n",
    "for _ in range(10):\n",
    "    random_idx = torch.randint(len(val_texts), size=(1,)).item()\n",
    "    text, label = val_texts[random_idx], labEncoder.classes_[val_labels[random_idx]]\n",
    "    prediction = predict_class(text, model, tokenizer, device, classes=labEncoder.classes_)\n",
    "    print(\"=============================================\")\n",
    "    print(f\"Text:\\n{text}\")\n",
    "    print(f\"Actual: {label}\\tPredicted: {prediction}\")\n",
    "    print(\"=============================================\")"
   ],
   "id": "8a9de11885df89ac",
   "outputs": [
    {
     "name": "stdout",
     "output_type": "stream",
     "text": [
      "=============================================\n",
      "Text:\n",
      "rt thousand russian march memory murdered putin critic\n",
      "Actual: not_cyberbullying\tPredicted: not_cyberbullying\n",
      "=============================================\n",
      "=============================================\n",
      "Text:\n",
      "argument quran perfect come many terrorist organization like isi alqaeda hezbollah boko haram indian mujahideen different country belonging different ethnicity interpreting quran wrong way coincidence think\n",
      "Actual: religion\tPredicted: religion\n",
      "=============================================\n",
      "=============================================\n",
      "Text:\n",
      "confused say fuck nigger ya daddy black bitch dumb dumb fuck outta\n",
      "Actual: ethnicity\tPredicted: ethnicity\n",
      "=============================================\n",
      "=============================================\n",
      "Text:\n",
      "chill rt obama fuck talking dumb nigger intelligent thinking\n",
      "Actual: ethnicity\tPredicted: ethnicity\n",
      "=============================================\n",
      "=============================================\n",
      "Text:\n",
      "hhelp oh god went saw someone primary school used bully like oh deadname started screaming emo goth like yea thanks stating obvious\n",
      "Actual: age\tPredicted: age\n",
      "=============================================\n",
      "=============================================\n",
      "Text:\n",
      "taking statue change anything current time many statue walked life actually stopped figure can not change past focus black education employment changing hood culture\n",
      "Actual: ethnicity\tPredicted: ethnicity\n",
      "=============================================\n",
      "=============================================\n",
      "Text:\n",
      "immense hatred hiyoko group bully traumatized elementary school highschool literally like every single way\n",
      "Actual: age\tPredicted: age\n",
      "=============================================\n",
      "=============================================\n",
      "Text:\n",
      "well male generation rule created year ago male female female oppress female female call female bitch stuff male male care stereotype\n",
      "Actual: gender\tPredicted: gender\n",
      "=============================================\n",
      "=============================================\n",
      "Text:\n",
      "please record amp put twitter\n",
      "Actual: not_cyberbullying\tPredicted: not_cyberbullying\n",
      "=============================================\n",
      "=============================================\n",
      "Text:\n",
      "glad spent year dancing building strong leg could use muscle claim space public transport\n",
      "Actual: not_cyberbullying\tPredicted: other_cyberbullying\n",
      "=============================================\n"
     ]
    }
   ],
   "execution_count": 31
  }
 ],
 "metadata": {
  "kernelspec": {
   "display_name": "Python 3",
   "language": "python",
   "name": "python3"
  },
  "language_info": {
   "codemirror_mode": {
    "name": "ipython",
    "version": 2
   },
   "file_extension": ".py",
   "mimetype": "text/x-python",
   "name": "python",
   "nbconvert_exporter": "python",
   "pygments_lexer": "ipython2",
   "version": "2.7.6"
  }
 },
 "nbformat": 4,
 "nbformat_minor": 5
}
